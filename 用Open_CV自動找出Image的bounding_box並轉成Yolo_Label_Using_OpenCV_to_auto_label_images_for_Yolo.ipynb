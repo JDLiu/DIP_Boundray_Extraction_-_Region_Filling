{
  "nbformat": 4,
  "nbformat_minor": 0,
  "metadata": {
    "colab": {
      "name": "用Open CV自動找出Image的bounding box並轉成Yolo Label_Using OpenCV to auto label images for Yolo",
      "provenance": [],
      "collapsed_sections": [],
      "mount_file_id": "1wwTNyjvkU1wSFN-SJTuxb-clNxySLOVS",
      "authorship_tag": "ABX9TyMaA7ON8VoXlRMyiAbL5L6h",
      "include_colab_link": true
    },
    "kernelspec": {
      "name": "python3",
      "display_name": "Python 3"
    }
  },
  "cells": [
    {
      "cell_type": "markdown",
      "metadata": {
        "id": "view-in-github",
        "colab_type": "text"
      },
      "source": [
        "<a href=\"https://colab.research.google.com/github/liuchiente/Digital_Image_Process_at_NCHU/blob/main/%E7%94%A8Open_CV%E8%87%AA%E5%8B%95%E6%89%BE%E5%87%BAImage%E7%9A%84bounding_box%E4%B8%A6%E8%BD%89%E6%88%90Yolo_Label_Using_OpenCV_to_auto_label_images_for_Yolo.ipynb\" target=\"_parent\"><img src=\"https://colab.research.google.com/assets/colab-badge.svg\" alt=\"Open In Colab\"/></a>"
      ]
    },
    {
      "cell_type": "markdown",
      "metadata": {
        "id": "_6QG0L6LUjaM"
      },
      "source": [
        "## 環境初始化\n",
        "\n",
        "\n",
        "1.   切換到工作目錄\n",
        "2.   載入會用到的工具函式\n",
        "3.   準備資料集"
      ]
    },
    {
      "cell_type": "code",
      "metadata": {
        "id": "pN-nK5vjDK9X",
        "colab": {
          "base_uri": "https://localhost:8080/"
        },
        "outputId": "f308fa94-8579-4f0d-e6df-4bb96225af3f"
      },
      "source": [
        "#掛載Google Drive\n",
        "from google.colab import drive\n",
        "drive.mount('/content/drive', force_remount=True)"
      ],
      "execution_count": null,
      "outputs": [
        {
          "output_type": "stream",
          "name": "stdout",
          "text": [
            "Mounted at /content/drive\n"
          ]
        }
      ]
    },
    {
      "cell_type": "code",
      "metadata": {
        "id": "hEa9MY8kUiwM"
      },
      "source": [
        "#載入框架和工具函式\n",
        "import os\n",
        "import matplotlib.pyplot as plt\n",
        "%matplotlib inline"
      ],
      "execution_count": null,
      "outputs": []
    },
    {
      "cell_type": "code",
      "source": [
        "import cv2\n",
        "import numpy as np\n",
        "import glob\n",
        "from google.colab.patches import cv2_imshow"
      ],
      "metadata": {
        "id": "1Pgw6VCf0G45"
      },
      "execution_count": null,
      "outputs": []
    },
    {
      "cell_type": "code",
      "metadata": {
        "id": "kNbacf3TU9tu"
      },
      "source": [
        "#切換預設目錄\n",
        "SYS_DIR = \"/content/drive/My Drive/Colab Notebooks/Yololo\"\n",
        "if not os.path.isdir(SYS_DIR):\n",
        "    os.mkdir(SYS_DIR)\n",
        "os.chdir(SYS_DIR)"
      ],
      "execution_count": null,
      "outputs": []
    },
    {
      "cell_type": "markdown",
      "source": [
        "## 準備資料集\n",
        "\n",
        "\n",
        "本次準備的是從Kaggle上取得的腐爛、新鮮水果資料集, 資料集包含蘋果、香蕉、橘子等腐爛和新鮮的對比,詳情可見Kaggle網址: https://www.kaggle.com/sriramr/fruits-fresh-and-rotten-for-classification\n"
      ],
      "metadata": {
        "id": "SD1xmSu0xkrr"
      }
    },
    {
      "cell_type": "code",
      "source": [
        "#為了能取得Kaggle資料及,需先下載Kagle套件\n",
        "! pip install -q kaggle"
      ],
      "metadata": {
        "id": "_BbIoJHWuhrk"
      },
      "execution_count": null,
      "outputs": []
    },
    {
      "cell_type": "code",
      "source": [
        "# 下載資料集\n",
        "! kaggle datasets download 'sriramr/fruits-fresh-and-rotten-for-classification'"
      ],
      "metadata": {
        "colab": {
          "base_uri": "https://localhost:8080/"
        },
        "id": "txvjdG1YPiS-",
        "outputId": "819bfdf0-f576-49d8-8555-a804ce67efdf"
      },
      "execution_count": null,
      "outputs": [
        {
          "output_type": "stream",
          "name": "stdout",
          "text": [
            "Downloading fruits-fresh-and-rotten-for-classification.zip to /content/drive/My Drive/Colab Notebooks/Yololo\n",
            "100% 3.58G/3.58G [00:56<00:00, 112MB/s]\n",
            "100% 3.58G/3.58G [00:57<00:00, 67.2MB/s]\n"
          ]
        }
      ]
    },
    {
      "cell_type": "code",
      "source": [
        "# 解壓縮資料集\n",
        "!unzip fruits-fresh-and-rotten-for-classification.zip"
      ],
      "metadata": {
        "id": "WbyZkDz7P0jX"
      },
      "execution_count": null,
      "outputs": []
    },
    {
      "cell_type": "markdown",
      "source": [
        "## 資料預先處理\n",
        "因為這批資料起碼有一萬張以上圖片,若逐張標記的話可能要花很多時間,所以使用Open CV來做批次處理。 \n",
        "\n",
        "1.   確認圖片有沒有異常\n",
        "2.   對圖片進行標記,劃出區域"
      ],
      "metadata": {
        "id": "X47JA-fnzlYM"
      }
    },
    {
      "cell_type": "code",
      "source": [
        "# 定義找出bounding box\n",
        "def get_imgage_range(img_path):\n",
        "  img = cv2.imread(img_path)\n",
        "  img = cv2.cvtColor(img, cv2.COLOR_BGR2HSV)\n",
        "  lower = np.array([0, 0, 0], dtype = \"uint8\")\n",
        "  upper = np.array([255, 50, 255], dtype = \"uint8\")\n",
        "  img = cv2.inRange(img, lower, upper)\n",
        "  img = cv2.blur(img, (2, 2))\n",
        "  ret, img = cv2.threshold(img, 0, 255, cv2.THRESH_BINARY)\n",
        "  img = cv2.bitwise_not(img)\n",
        "  contours, hierarchy = cv2.findContours(img, cv2.RETR_TREE, cv2.CHAIN_APPROX_SIMPLE)\n",
        "  contours = max(contours, key=lambda x: cv2.contourArea(x))\n",
        "  #取得方框位置\n",
        "  x, y, w, h = cv2.boundingRect(contours)\n",
        "  \n",
        "  xmin=x\n",
        "  ymin=y\n",
        "  xmax=x+w\n",
        "  ymax=y+h\n",
        "\n",
        "  #找出圖片尺寸\n",
        "  dimensions = img.shape\n",
        "  hi = img.shape[0]\n",
        "  wi = img.shape[1]\n",
        "  \n",
        "  #計算Open CV所需要的比例,劃出bounding box\n",
        "  xp = (xmin + (xmax-xmin)/2) * 1.0 / wi\n",
        "  yp = (ymin + (ymax-ymin)/2) * 1.0 / hi\n",
        "  wp = (xmax-xmin) * 1.0 / wi\n",
        "  hp = (ymax-ymin) * 1.0 / hi\n",
        "  return xp, yp, wp, hp"
      ],
      "metadata": {
        "id": "E7yYeT1k0fOs"
      },
      "execution_count": null,
      "outputs": []
    },
    {
      "cell_type": "code",
      "source": [
        "# 首先清除Yolo訓練時需要的Train、Test文字紀錄檔\n",
        "if os.path.exists('./darknet/rot/train.txt'):\n",
        "  os.remove('./darknet/rot/train.txt')\n",
        "if os.path.exists('./darknet/rot/text.txt'):\n",
        "  os.remove('./darknet/rot/text.txt')"
      ],
      "metadata": {
        "id": "cUT10o0rz0Vw"
      },
      "execution_count": null,
      "outputs": []
    },
    {
      "cell_type": "code",
      "source": [
        "#重新訓練或是一開始訓練時,我們會先刪除原本的標籤檔案\n",
        "for dirname, _, filenames in os.walk('./darknet/rot/dataset'):\n",
        "    counter=0\n",
        "    for filename in  glob.iglob(dirname+'/*.txt') :\n",
        "      os.remove(filename)      "
      ],
      "metadata": {
        "id": "ZaH7r1jfKUhk"
      },
      "execution_count": null,
      "outputs": []
    },
    {
      "cell_type": "code",
      "source": [
        "#確認是不是有圖片檔案路徑異常,造成沒辦法讀取到圖片\n",
        "for dirname, _, filenames in os.walk('./darknet/rot/dataset'):\n",
        "    for img_path in  glob.iglob(dirname+'/*.png') :\n",
        "      if not os.path.exists(img_path):\n",
        "        print(img_path)\n",
        "        os.remove(img_path) "
      ],
      "metadata": {
        "id": "GgztkXnxOG6L"
      },
      "execution_count": null,
      "outputs": []
    },
    {
      "cell_type": "code",
      "source": [
        "#開始遍歷資料夾裡面的圖片,並為它加上標籤\n",
        "imgcnt=0\n",
        "for dirname, _, filenames in os.walk('./darknet/rot/dataset'):\n",
        "    for img_path in  glob.iglob(dirname+'/*.png') :\n",
        "\n",
        "        lbl_path=os.path.splitext(img_path)[0]+\".txt\"\n",
        "        dirnames=dirname.split('/')\n",
        "        if len(dirnames)>4:\n",
        "          #定義標籤\n",
        "          label=0\n",
        "          if dirnames[5] == 'freshapples':\n",
        "            label=0\n",
        "          elif dirnames[5] == 'freshbanana':\n",
        "            label=1\n",
        "          elif dirnames[5] == 'freshoranges':\n",
        "            label=2\n",
        "          elif dirnames[5] == 'rottenapples':\n",
        "            label=3\n",
        "          elif dirnames[5] == 'rottenbanana':\n",
        "            label=4\n",
        "          elif dirnames[5] == 'rottenoranges':\n",
        "            label=5\n",
        "          \n",
        "          #轉換轉換Yolo比例\n",
        "          if os.path.exists(img_path):\n",
        "              #取得標籤\n",
        "              xmin, ymin, xmax, ymax=get_imgage_range(img_path)\n",
        "              #儲存標籤\n",
        "              with open(lbl_path, 'a+') as f:\n",
        "                f.write('%s %s %s %s %s\\n' % (label,xmin, ymin, xmax, ymax))\n",
        "              #紀錄Train、Text路徑\n",
        "              with open('./darknet/rot/'+dirnames[4]+ '.txt', 'a+') as f:\n",
        "                line_txt = [img_path, '\\n']\n",
        "                f.writelines(line_txt)\n",
        "              imgcnt=imgcnt+1\n",
        "          else:\n",
        "            print(img_path)"
      ],
      "metadata": {
        "id": "AuUTVY2ZLLvS"
      },
      "execution_count": null,
      "outputs": []
    },
    {
      "cell_type": "code",
      "source": [
        "print(str(imgcnt)+\" images has been processd\")"
      ],
      "metadata": {
        "id": "LWaRZ2SdkF9U",
        "outputId": "fed740a7-87ff-4149-d95d-955c1d7248f8",
        "colab": {
          "base_uri": "https://localhost:8080/"
        }
      },
      "execution_count": null,
      "outputs": [
        {
          "output_type": "stream",
          "name": "stdout",
          "text": [
            "13319\n"
          ]
        }
      ]
    },
    {
      "cell_type": "code",
      "source": [
        "!ls"
      ],
      "metadata": {
        "id": "r9Iq3jJWhg7L"
      },
      "execution_count": null,
      "outputs": []
    }
  ]
}